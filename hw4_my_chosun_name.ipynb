{
 "cells": [
  {
   "cell_type": "code",
   "execution_count": 22,
   "id": "efa43ea3-832e-485b-9823-947f77214b34",
   "metadata": {},
   "outputs": [
    {
     "name": "stdout",
     "output_type": "stream",
     "text": [
      "['쌍', '쇠', '복', '돌', '팽', '육', '쌍', '개', '칠', '갑', '삼', '방']\n"
     ]
    }
   ],
   "source": [
    "month_name = ['쌍', '쇠', '복', '돌', '팽', '육', '쌍', '개', '칠', '갑', '삼', '방']\n",
    "print(month_name)"
   ]
  },
  {
   "cell_type": "code",
   "execution_count": 25,
   "id": "df62aede-ca61-4cce-be01-8425377784a1",
   "metadata": {
    "tags": []
   },
   "outputs": [
    {
     "name": "stdout",
     "output_type": "stream",
     "text": [
      "['봉', '구', '욕', '포', '똥', '삼', '식', '석', '놈', '님', '년', '돌', '단', '득', '방', '질', '장', '걸', '래', '룡', '동', '순', '자', '박', '창', '언', '것', '포', '만', '단', '국']\n"
     ]
    }
   ],
   "source": [
    "day_name = ['봉', '구', '욕', '포', '똥', '삼', '식', '석', '놈', '님',\n",
    "       '년', '돌', '단', '득', '방', '질', '장', '걸', '래', '룡',\n",
    "       '동', '순', '자', '박', '창', '언', '것', '포', '만', '단', '국']\n",
    "print(day_name)"
   ]
  },
  {
   "cell_type": "code",
   "execution_count": 31,
   "id": "334365b0-86c9-4286-80a3-bb6dbd7dd76a",
   "metadata": {},
   "outputs": [],
   "source": [
    "def get_my_chosun_name(family_name, month, day):\n",
    "    return (family_name + month_name[month - 1] + day_name[day - 1])"
   ]
  },
  {
   "cell_type": "code",
   "execution_count": 38,
   "id": "6e99239c-bdb9-4816-8d7a-8bf15fc3c221",
   "metadata": {},
   "outputs": [
    {
     "name": "stdout",
     "output_type": "stream",
     "text": [
      "당신의 조선시대 이름은 안칠걸 입니다.\n"
     ]
    }
   ],
   "source": [
    "print(\"당신의 조선시대 이름은\", get_my_chosun_name(\"안\", 9, 18), \"입니다.\")"
   ]
  }
 ],
 "metadata": {
  "kernelspec": {
   "display_name": "Python 3 (ipykernel)",
   "language": "python",
   "name": "python3"
  },
  "language_info": {
   "codemirror_mode": {
    "name": "ipython",
    "version": 3
   },
   "file_extension": ".py",
   "mimetype": "text/x-python",
   "name": "python",
   "nbconvert_exporter": "python",
   "pygments_lexer": "ipython3",
   "version": "3.9.12"
  }
 },
 "nbformat": 4,
 "nbformat_minor": 5
}
