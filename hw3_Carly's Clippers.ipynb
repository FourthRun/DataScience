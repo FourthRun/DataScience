{
 "cells": [
  {
   "cell_type": "code",
   "execution_count": 110,
   "id": "1cd77eba-2124-4416-9d24-cd235c35b041",
   "metadata": {},
   "outputs": [],
   "source": [
    "hairstyles = [\"bouffant\", \"pixie\", \"dreadlocks\", \"crew\", \"bowl\", \"bob\", \"mohawk\", \"flattop\"]"
   ]
  },
  {
   "cell_type": "code",
   "execution_count": 111,
   "id": "0d1b4cd6-eda1-470c-8903-a8e6a0de2e88",
   "metadata": {},
   "outputs": [],
   "source": [
    "prices = [30, 25, 40, 20, 20, 35, 50, 35]"
   ]
  },
  {
   "cell_type": "code",
   "execution_count": 112,
   "id": "a7887db5-8bed-4c17-804a-fe4a7e9e12e7",
   "metadata": {},
   "outputs": [],
   "source": [
    "last_week = [2, 3, 5, 8, 4, 4, 6, 2]"
   ]
  },
  {
   "cell_type": "code",
   "execution_count": 113,
   "id": "858f7edb-6141-4165-b6a9-866df220bb14",
   "metadata": {},
   "outputs": [],
   "source": [
    "total_price = 0"
   ]
  },
  {
   "cell_type": "code",
   "execution_count": 114,
   "id": "d8438ff3-9bae-4709-b9c0-93ce9445db33",
   "metadata": {},
   "outputs": [
    {
     "name": "stdout",
     "output_type": "stream",
     "text": [
      "255\n"
     ]
    }
   ],
   "source": [
    "for i in prices :\n",
    "    total_price += i\n",
    "print(total_price)"
   ]
  },
  {
   "cell_type": "code",
   "execution_count": 115,
   "id": "aa9cb1a6-f0c1-4795-bbd3-853b912e0e0c",
   "metadata": {},
   "outputs": [
    {
     "name": "stdout",
     "output_type": "stream",
     "text": [
      "Average price is 31.875\n"
     ]
    }
   ],
   "source": [
    "average_price = total_price / len(prices)\n",
    "print(\"Average price is\", average_price)"
   ]
  },
  {
   "cell_type": "code",
   "execution_count": 116,
   "id": "02485999-2c26-44a7-ad29-5e2179e0e1ee",
   "metadata": {},
   "outputs": [],
   "source": [
    "import numpy as np"
   ]
  },
  {
   "cell_type": "code",
   "execution_count": 117,
   "id": "54178b8a-5380-46aa-bbfe-4a372885ca56",
   "metadata": {},
   "outputs": [],
   "source": [
    "prices = np.array(prices)"
   ]
  },
  {
   "cell_type": "code",
   "execution_count": 118,
   "id": "ddf42202-a807-413d-bc79-7d2a9d6c5667",
   "metadata": {},
   "outputs": [
    {
     "name": "stdout",
     "output_type": "stream",
     "text": [
      "[25 20 35 15 15 30 45 30]\n"
     ]
    }
   ],
   "source": [
    "new_prices = prices - 5\n",
    "print(new_prices)"
   ]
  },
  {
   "cell_type": "code",
   "execution_count": 119,
   "id": "66f3d86f-6bc9-4f9c-826b-05c683bb86d6",
   "metadata": {},
   "outputs": [],
   "source": [
    "total_revenue = 0"
   ]
  },
  {
   "cell_type": "code",
   "execution_count": 120,
   "id": "bc4537bb-ba1d-4572-a905-816208e9b98f",
   "metadata": {},
   "outputs": [],
   "source": [
    "for i in range(len(hairstyles)) :\n",
    "    total_revenue += prices[i - 1] * last_week[i - 1]"
   ]
  },
  {
   "cell_type": "code",
   "execution_count": 121,
   "id": "80b1e9bc-72e4-4347-8170-606c61dbf223",
   "metadata": {},
   "outputs": [
    {
     "name": "stdout",
     "output_type": "stream",
     "text": [
      "Average daily revenue is 155.0\n"
     ]
    }
   ],
   "source": [
    "print(\"Average daily revenue is\", total_revenue / 7)"
   ]
  },
  {
   "cell_type": "code",
   "execution_count": 122,
   "id": "fb75fdda-0bb6-4ec4-bb7e-40eeed24833d",
   "metadata": {},
   "outputs": [],
   "source": [
    "cuts_under_30 = []\n",
    "for i in range(len(hairstyles)) :\n",
    "    if new_prices[i - 1] < 30 :\n",
    "        cuts_under_30 += [hairstyles[i - 1]]"
   ]
  },
  {
   "cell_type": "code",
   "execution_count": 123,
   "id": "a88ded8c-eebb-405e-af3f-8748cbbff516",
   "metadata": {},
   "outputs": [
    {
     "name": "stdout",
     "output_type": "stream",
     "text": [
      "['bouffant', 'pixie', 'crew', 'bowl']\n"
     ]
    }
   ],
   "source": [
    "print(cuts_under_30)"
   ]
  }
 ],
 "metadata": {
  "kernelspec": {
   "display_name": "Python 3 (ipykernel)",
   "language": "python",
   "name": "python3"
  },
  "language_info": {
   "codemirror_mode": {
    "name": "ipython",
    "version": 3
   },
   "file_extension": ".py",
   "mimetype": "text/x-python",
   "name": "python",
   "nbconvert_exporter": "python",
   "pygments_lexer": "ipython3",
   "version": "3.9.12"
  }
 },
 "nbformat": 4,
 "nbformat_minor": 5
}
